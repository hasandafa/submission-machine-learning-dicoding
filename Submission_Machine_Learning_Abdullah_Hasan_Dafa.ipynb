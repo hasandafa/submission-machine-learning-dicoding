{
  "nbformat": 4,
  "nbformat_minor": 0,
  "metadata": {
    "colab": {
      "provenance": [],
      "gpuType": "T4",
      "authorship_tag": "ABX9TyMQUtQO5YIIlPHb21rnAKar",
      "include_colab_link": true
    },
    "kernelspec": {
      "name": "python3",
      "display_name": "Python 3"
    },
    "language_info": {
      "name": "python"
    },
    "accelerator": "GPU"
  },
  "cells": [
    {
      "cell_type": "markdown",
      "metadata": {
        "id": "view-in-github",
        "colab_type": "text"
      },
      "source": [
        "<a href=\"https://colab.research.google.com/github/hasandafa/submission-machine-learning-dicoding/blob/master/Submission_Machine_Learning_Abdullah_Hasan_Dafa.ipynb\" target=\"_parent\"><img src=\"https://colab.research.google.com/assets/colab-badge.svg\" alt=\"Open In Colab\"/></a>"
      ]
    },
    {
      "cell_type": "markdown",
      "source": [
        "# Proyek Machine Learning: Rock Paper Scissors\n",
        "- Nama: Abdullah Hasan Dafa\n",
        "- Email: dafa.abdullahhasan@gmail.com\n",
        "- Id Dicoding: abdullahhasan_dafa"
      ],
      "metadata": {
        "id": "EtJBLeHHCmGa"
      }
    },
    {
      "cell_type": "markdown",
      "source": [
        "Libraries Prep"
      ],
      "metadata": {
        "id": "LlZhLwq7E0Qd"
      }
    },
    {
      "cell_type": "code",
      "source": [
        "!pip install wget"
      ],
      "metadata": {
        "colab": {
          "base_uri": "https://localhost:8080/"
        },
        "id": "gtfUTW8DIFic",
        "outputId": "e3b9521b-39f3-45d8-b0dc-9be235c4ce0f"
      },
      "execution_count": 1,
      "outputs": [
        {
          "output_type": "stream",
          "name": "stdout",
          "text": [
            "Requirement already satisfied: wget in /usr/local/lib/python3.10/dist-packages (3.2)\n"
          ]
        }
      ]
    },
    {
      "cell_type": "code",
      "execution_count": 2,
      "metadata": {
        "id": "gplF2zuACKOa"
      },
      "outputs": [],
      "source": [
        "import numpy as np\n",
        "import wget\n",
        "import zipfile\n",
        "from sklearn.model_selection import train_test_split\n",
        "import tensorflow as tf\n",
        "import keras\n",
        "from keras.models import Sequential\n",
        "from keras.layers import Conv2D, AveragePooling2D, Flatten, Dense, Dropout\n",
        "from keras.preprocessing import image\n",
        "from keras.preprocessing.image import ImageDataGenerator\n",
        "from keras.optimizers import RMSprop\n",
        "# from keras.losses import CategoricalCrossentropy\n",
        "from IPython.display import Image\n",
        "from google.colab import files"
      ]
    },
    {
      "cell_type": "markdown",
      "source": [
        "Import Dataset"
      ],
      "metadata": {
        "id": "ICqKepcCE2qM"
      }
    },
    {
      "cell_type": "code",
      "source": [
        "url = \"https://github.com/dicodingacademy/assets/releases/download/release/rockpaperscissors.zip\"\n",
        "wget.download(url, 'rockpaperscissors.zip')\n",
        "\n",
        "with zipfile.ZipFile('rockpaperscissors.zip', 'r') as zip_ref:\n",
        "    zip_ref.extractall('/content/dataset')"
      ],
      "metadata": {
        "id": "5l-pglawDbrG"
      },
      "execution_count": 3,
      "outputs": []
    },
    {
      "cell_type": "markdown",
      "source": [
        "Image Augmentation"
      ],
      "metadata": {
        "id": "e5f4bHnvE5DF"
      }
    },
    {
      "cell_type": "code",
      "source": [
        "train_datagen = ImageDataGenerator(\n",
        "    rescale=1./255,\n",
        "    rotation_range=20,\n",
        "    # width_shift_range=0.2,\n",
        "    # height_shift_range=0.2,\n",
        "    # shear_range=0.2,\n",
        "    zoom_range=0.2,\n",
        "    horizontal_flip=True,\n",
        "    validation_split=0.4\n",
        ")\n",
        "\n",
        "val_datagen = ImageDataGenerator(\n",
        "    rescale=1./255,\n",
        "    rotation_range=20,\n",
        "    # width_shift_range=0.2,\n",
        "    # height_shift_range=0.2,\n",
        "    # shear_range=0.2,\n",
        "    zoom_range=0.2,\n",
        "    horizontal_flip=True,\n",
        "    validation_split=0.4\n",
        ")"
      ],
      "metadata": {
        "id": "2svHpzNDGkqs"
      },
      "execution_count": 4,
      "outputs": []
    },
    {
      "cell_type": "markdown",
      "source": [
        "Image Split"
      ],
      "metadata": {
        "id": "QVDKBzyJE7qQ"
      }
    },
    {
      "cell_type": "code",
      "source": [
        "train_generator = train_datagen.flow_from_directory(\n",
        "    '/content/dataset/rockpaperscissors/rps-cv-images',\n",
        "    target_size=(224, 224),\n",
        "    batch_size=32,\n",
        "    class_mode='categorical',\n",
        "    subset='training'\n",
        ")\n",
        "\n",
        "validation_generator = val_datagen.flow_from_directory(\n",
        "    '/content/dataset/rockpaperscissors/rps-cv-images',\n",
        "    target_size=(224, 224),\n",
        "    batch_size=32,\n",
        "    class_mode='categorical',\n",
        "    subset='validation'\n",
        ")"
      ],
      "metadata": {
        "colab": {
          "base_uri": "https://localhost:8080/"
        },
        "id": "QorRVOicIcx1",
        "outputId": "1985edf2-e7d2-45e4-864f-511fde8a0f1a"
      },
      "execution_count": 5,
      "outputs": [
        {
          "output_type": "stream",
          "name": "stdout",
          "text": [
            "Found 1314 images belonging to 3 classes.\n",
            "Found 874 images belonging to 3 classes.\n"
          ]
        }
      ]
    },
    {
      "cell_type": "markdown",
      "source": [
        "Model Building"
      ],
      "metadata": {
        "id": "fkk01wK1E97l"
      }
    },
    {
      "cell_type": "code",
      "source": [
        "model = Sequential([\n",
        "    Conv2D(32, (3,3), activation='relu', input_shape=(224, 224, 3)),\n",
        "    AveragePooling2D(2,2),\n",
        "    Conv2D(64, (3,3), activation='relu'),\n",
        "    AveragePooling2D(2,2),\n",
        "    # Conv2D(256, (3,3), activation='relu'),\n",
        "    # AveragePooling2D(2,2),\n",
        "    Conv2D(64, (3,3), activation='relu'),\n",
        "    AveragePooling2D(2,2),\n",
        "    Flatten(),\n",
        "    Dense(128, activation='relu'),\n",
        "    Dropout(0.5),\n",
        "    Dense(3, activation='softmax')\n",
        "])"
      ],
      "metadata": {
        "id": "17nztGeKIkUX"
      },
      "execution_count": 6,
      "outputs": []
    },
    {
      "cell_type": "code",
      "source": [
        "model.summary()"
      ],
      "metadata": {
        "colab": {
          "base_uri": "https://localhost:8080/"
        },
        "id": "W7h6775UbA4V",
        "outputId": "d95ff0e4-4ffc-41b6-f2bc-b131b05c431d"
      },
      "execution_count": 7,
      "outputs": [
        {
          "output_type": "stream",
          "name": "stdout",
          "text": [
            "Model: \"sequential\"\n",
            "_________________________________________________________________\n",
            " Layer (type)                Output Shape              Param #   \n",
            "=================================================================\n",
            " conv2d (Conv2D)             (None, 222, 222, 32)      896       \n",
            "                                                                 \n",
            " average_pooling2d (Average  (None, 111, 111, 32)      0         \n",
            " Pooling2D)                                                      \n",
            "                                                                 \n",
            " conv2d_1 (Conv2D)           (None, 109, 109, 64)      18496     \n",
            "                                                                 \n",
            " average_pooling2d_1 (Avera  (None, 54, 54, 64)        0         \n",
            " gePooling2D)                                                    \n",
            "                                                                 \n",
            " conv2d_2 (Conv2D)           (None, 52, 52, 64)        36928     \n",
            "                                                                 \n",
            " average_pooling2d_2 (Avera  (None, 26, 26, 64)        0         \n",
            " gePooling2D)                                                    \n",
            "                                                                 \n",
            " flatten (Flatten)           (None, 43264)             0         \n",
            "                                                                 \n",
            " dense (Dense)               (None, 128)               5537920   \n",
            "                                                                 \n",
            " dropout (Dropout)           (None, 128)               0         \n",
            "                                                                 \n",
            " dense_1 (Dense)             (None, 3)                 387       \n",
            "                                                                 \n",
            "=================================================================\n",
            "Total params: 5594627 (21.34 MB)\n",
            "Trainable params: 5594627 (21.34 MB)\n",
            "Non-trainable params: 0 (0.00 Byte)\n",
            "_________________________________________________________________\n"
          ]
        }
      ]
    },
    {
      "cell_type": "markdown",
      "source": [
        "Model Training"
      ],
      "metadata": {
        "id": "Ra4oDJSyE_7D"
      }
    },
    {
      "cell_type": "code",
      "source": [
        "# from keras.callbacks import EarlyStopping\n",
        "\n",
        "# early_stopping = EarlyStopping(monitor='val_accuracy', patience=2, mode='max', verbose=1)\n",
        "\n",
        "model.compile(optimizer=RMSprop(learning_rate=0.0001), loss='categorical_crossentropy', metrics=['accuracy'])\n",
        "\n",
        "history = model.fit(\n",
        "    train_generator,\n",
        "    steps_per_epoch=10,\n",
        "    validation_data=validation_generator,\n",
        "    validation_steps=10,\n",
        "    epochs=100,\n",
        "    verbose=1\n",
        "    # callbacks=[early_stopping]\n",
        ")"
      ],
      "metadata": {
        "colab": {
          "base_uri": "https://localhost:8080/"
        },
        "id": "jR9jN9KfJHzl",
        "outputId": "59e64fca-d1fd-4216-ef09-81ea92f6fe90"
      },
      "execution_count": 8,
      "outputs": [
        {
          "output_type": "stream",
          "name": "stdout",
          "text": [
            "Epoch 1/100\n",
            "10/10 [==============================] - 27s 2s/step - loss: 1.1046 - accuracy: 0.3313 - val_loss: 1.0748 - val_accuracy: 0.4219\n",
            "Epoch 2/100\n",
            "10/10 [==============================] - 10s 1s/step - loss: 1.0616 - accuracy: 0.4500 - val_loss: 1.0312 - val_accuracy: 0.5406\n",
            "Epoch 3/100\n",
            "10/10 [==============================] - 14s 2s/step - loss: 1.0355 - accuracy: 0.5000 - val_loss: 1.0302 - val_accuracy: 0.4500\n",
            "Epoch 4/100\n",
            "10/10 [==============================] - 9s 933ms/step - loss: 1.0181 - accuracy: 0.5000 - val_loss: 0.9643 - val_accuracy: 0.6375\n",
            "Epoch 5/100\n",
            "10/10 [==============================] - 10s 1s/step - loss: 0.9621 - accuracy: 0.5437 - val_loss: 0.9393 - val_accuracy: 0.5375\n",
            "Epoch 6/100\n",
            "10/10 [==============================] - 15s 2s/step - loss: 0.9677 - accuracy: 0.5188 - val_loss: 0.8872 - val_accuracy: 0.7188\n",
            "Epoch 7/100\n",
            "10/10 [==============================] - 9s 969ms/step - loss: 0.9493 - accuracy: 0.5750 - val_loss: 0.9523 - val_accuracy: 0.6031\n",
            "Epoch 8/100\n",
            "10/10 [==============================] - 10s 1s/step - loss: 0.9359 - accuracy: 0.5969 - val_loss: 0.8496 - val_accuracy: 0.6375\n",
            "Epoch 9/100\n",
            "10/10 [==============================] - 14s 2s/step - loss: 0.8811 - accuracy: 0.6125 - val_loss: 0.8612 - val_accuracy: 0.6344\n",
            "Epoch 10/100\n",
            "10/10 [==============================] - 9s 982ms/step - loss: 0.8966 - accuracy: 0.6034 - val_loss: 0.8384 - val_accuracy: 0.6500\n",
            "Epoch 11/100\n",
            "10/10 [==============================] - 9s 960ms/step - loss: 0.9053 - accuracy: 0.5969 - val_loss: 0.8180 - val_accuracy: 0.6812\n",
            "Epoch 12/100\n",
            "10/10 [==============================] - 9s 957ms/step - loss: 0.8781 - accuracy: 0.5793 - val_loss: 0.8130 - val_accuracy: 0.6750\n",
            "Epoch 13/100\n",
            "10/10 [==============================] - 10s 1s/step - loss: 0.8591 - accuracy: 0.6281 - val_loss: 0.8020 - val_accuracy: 0.6719\n",
            "Epoch 14/100\n",
            "10/10 [==============================] - 10s 1s/step - loss: 0.7756 - accuracy: 0.6844 - val_loss: 0.7356 - val_accuracy: 0.7219\n",
            "Epoch 15/100\n",
            "10/10 [==============================] - 10s 1s/step - loss: 0.7657 - accuracy: 0.6875 - val_loss: 0.7920 - val_accuracy: 0.6625\n",
            "Epoch 16/100\n",
            "10/10 [==============================] - 9s 964ms/step - loss: 0.8010 - accuracy: 0.6406 - val_loss: 0.7365 - val_accuracy: 0.6750\n",
            "Epoch 17/100\n",
            "10/10 [==============================] - 10s 996ms/step - loss: 0.7441 - accuracy: 0.6812 - val_loss: 0.7366 - val_accuracy: 0.6844\n",
            "Epoch 18/100\n",
            "10/10 [==============================] - 10s 1s/step - loss: 0.7275 - accuracy: 0.7156 - val_loss: 0.7590 - val_accuracy: 0.7125\n",
            "Epoch 19/100\n",
            "10/10 [==============================] - 14s 2s/step - loss: 0.7401 - accuracy: 0.6594 - val_loss: 0.6836 - val_accuracy: 0.7469\n",
            "Epoch 20/100\n",
            "10/10 [==============================] - 10s 1s/step - loss: 0.7303 - accuracy: 0.6906 - val_loss: 0.7415 - val_accuracy: 0.6656\n",
            "Epoch 21/100\n",
            "10/10 [==============================] - 9s 959ms/step - loss: 0.7539 - accuracy: 0.6844 - val_loss: 0.6899 - val_accuracy: 0.7125\n",
            "Epoch 22/100\n",
            "10/10 [==============================] - 10s 1s/step - loss: 0.6972 - accuracy: 0.7188 - val_loss: 0.6535 - val_accuracy: 0.7312\n",
            "Epoch 23/100\n",
            "10/10 [==============================] - 15s 2s/step - loss: 0.7458 - accuracy: 0.6938 - val_loss: 0.6697 - val_accuracy: 0.7500\n",
            "Epoch 24/100\n",
            "10/10 [==============================] - 10s 1s/step - loss: 0.6977 - accuracy: 0.7310 - val_loss: 0.6908 - val_accuracy: 0.7094\n",
            "Epoch 25/100\n",
            "10/10 [==============================] - 14s 2s/step - loss: 0.7240 - accuracy: 0.7156 - val_loss: 0.7889 - val_accuracy: 0.6844\n",
            "Epoch 26/100\n",
            "10/10 [==============================] - 9s 1s/step - loss: 0.7334 - accuracy: 0.6414 - val_loss: 0.7505 - val_accuracy: 0.6594\n",
            "Epoch 27/100\n",
            "10/10 [==============================] - 9s 958ms/step - loss: 0.7314 - accuracy: 0.6469 - val_loss: 0.7101 - val_accuracy: 0.7000\n",
            "Epoch 28/100\n",
            "10/10 [==============================] - 9s 963ms/step - loss: 0.7001 - accuracy: 0.7000 - val_loss: 0.6538 - val_accuracy: 0.7312\n",
            "Epoch 29/100\n",
            "10/10 [==============================] - 10s 1s/step - loss: 0.6677 - accuracy: 0.7188 - val_loss: 0.5779 - val_accuracy: 0.7844\n",
            "Epoch 30/100\n",
            "10/10 [==============================] - 10s 1s/step - loss: 0.7236 - accuracy: 0.6966 - val_loss: 0.6721 - val_accuracy: 0.7406\n",
            "Epoch 31/100\n",
            "10/10 [==============================] - 10s 1s/step - loss: 0.6707 - accuracy: 0.7406 - val_loss: 0.6128 - val_accuracy: 0.7469\n",
            "Epoch 32/100\n",
            "10/10 [==============================] - 8s 895ms/step - loss: 0.6433 - accuracy: 0.7621 - val_loss: 0.8570 - val_accuracy: 0.5656\n",
            "Epoch 33/100\n",
            "10/10 [==============================] - 9s 928ms/step - loss: 0.6494 - accuracy: 0.7344 - val_loss: 0.6233 - val_accuracy: 0.7469\n",
            "Epoch 34/100\n",
            "10/10 [==============================] - 9s 1s/step - loss: 0.6684 - accuracy: 0.7345 - val_loss: 0.6359 - val_accuracy: 0.7500\n",
            "Epoch 35/100\n",
            "10/10 [==============================] - 14s 2s/step - loss: 0.6410 - accuracy: 0.7469 - val_loss: 0.5909 - val_accuracy: 0.7375\n",
            "Epoch 36/100\n",
            "10/10 [==============================] - 10s 1s/step - loss: 0.5975 - accuracy: 0.7531 - val_loss: 0.6010 - val_accuracy: 0.7563\n",
            "Epoch 37/100\n",
            "10/10 [==============================] - 14s 2s/step - loss: 0.5824 - accuracy: 0.7875 - val_loss: 0.5704 - val_accuracy: 0.7719\n",
            "Epoch 38/100\n",
            "10/10 [==============================] - 10s 1s/step - loss: 0.6302 - accuracy: 0.7063 - val_loss: 0.6172 - val_accuracy: 0.7281\n",
            "Epoch 39/100\n",
            "10/10 [==============================] - 14s 2s/step - loss: 0.6440 - accuracy: 0.7406 - val_loss: 0.5792 - val_accuracy: 0.7719\n",
            "Epoch 40/100\n",
            "10/10 [==============================] - 10s 1s/step - loss: 0.5512 - accuracy: 0.8000 - val_loss: 0.5704 - val_accuracy: 0.7719\n",
            "Epoch 41/100\n",
            "10/10 [==============================] - 14s 2s/step - loss: 0.5355 - accuracy: 0.7844 - val_loss: 0.5756 - val_accuracy: 0.7406\n",
            "Epoch 42/100\n",
            "10/10 [==============================] - 9s 957ms/step - loss: 0.5983 - accuracy: 0.7250 - val_loss: 0.5838 - val_accuracy: 0.7500\n",
            "Epoch 43/100\n",
            "10/10 [==============================] - 10s 1s/step - loss: 0.5755 - accuracy: 0.7812 - val_loss: 0.6146 - val_accuracy: 0.7344\n",
            "Epoch 44/100\n",
            "10/10 [==============================] - 10s 1s/step - loss: 0.6059 - accuracy: 0.7563 - val_loss: 0.6358 - val_accuracy: 0.7031\n",
            "Epoch 45/100\n",
            "10/10 [==============================] - 14s 2s/step - loss: 0.6421 - accuracy: 0.7375 - val_loss: 0.5840 - val_accuracy: 0.7812\n",
            "Epoch 46/100\n",
            "10/10 [==============================] - 14s 2s/step - loss: 0.5781 - accuracy: 0.8000 - val_loss: 0.5398 - val_accuracy: 0.7937\n",
            "Epoch 47/100\n",
            "10/10 [==============================] - 10s 1s/step - loss: 0.5760 - accuracy: 0.7750 - val_loss: 0.5508 - val_accuracy: 0.7969\n",
            "Epoch 48/100\n",
            "10/10 [==============================] - 14s 2s/step - loss: 0.5100 - accuracy: 0.7875 - val_loss: 0.5657 - val_accuracy: 0.8000\n",
            "Epoch 49/100\n",
            "10/10 [==============================] - 14s 2s/step - loss: 0.4820 - accuracy: 0.8062 - val_loss: 0.6106 - val_accuracy: 0.7125\n",
            "Epoch 50/100\n",
            "10/10 [==============================] - 10s 979ms/step - loss: 0.5200 - accuracy: 0.8207 - val_loss: 0.5415 - val_accuracy: 0.7844\n",
            "Epoch 51/100\n",
            "10/10 [==============================] - 10s 1s/step - loss: 0.5081 - accuracy: 0.8031 - val_loss: 0.5123 - val_accuracy: 0.8188\n",
            "Epoch 52/100\n",
            "10/10 [==============================] - 10s 1s/step - loss: 0.5367 - accuracy: 0.7812 - val_loss: 0.5600 - val_accuracy: 0.7875\n",
            "Epoch 53/100\n",
            "10/10 [==============================] - 14s 2s/step - loss: 0.4842 - accuracy: 0.8156 - val_loss: 0.4963 - val_accuracy: 0.8000\n",
            "Epoch 54/100\n",
            "10/10 [==============================] - 14s 2s/step - loss: 0.5687 - accuracy: 0.7844 - val_loss: 0.5892 - val_accuracy: 0.7406\n",
            "Epoch 55/100\n",
            "10/10 [==============================] - 9s 969ms/step - loss: 0.4481 - accuracy: 0.8313 - val_loss: 0.5148 - val_accuracy: 0.8062\n",
            "Epoch 56/100\n",
            "10/10 [==============================] - 10s 1s/step - loss: 0.5462 - accuracy: 0.7759 - val_loss: 0.4807 - val_accuracy: 0.8156\n",
            "Epoch 57/100\n",
            "10/10 [==============================] - 10s 1s/step - loss: 0.4350 - accuracy: 0.8313 - val_loss: 0.4788 - val_accuracy: 0.7937\n",
            "Epoch 58/100\n",
            "10/10 [==============================] - 14s 2s/step - loss: 0.5732 - accuracy: 0.7531 - val_loss: 0.4597 - val_accuracy: 0.8375\n",
            "Epoch 59/100\n",
            "10/10 [==============================] - 9s 968ms/step - loss: 0.4745 - accuracy: 0.8469 - val_loss: 0.4581 - val_accuracy: 0.8000\n",
            "Epoch 60/100\n",
            "10/10 [==============================] - 9s 1s/step - loss: 0.5079 - accuracy: 0.7966 - val_loss: 0.4833 - val_accuracy: 0.8031\n",
            "Epoch 61/100\n",
            "10/10 [==============================] - 10s 1s/step - loss: 0.4748 - accuracy: 0.7937 - val_loss: 0.4399 - val_accuracy: 0.8250\n",
            "Epoch 62/100\n",
            "10/10 [==============================] - 14s 1s/step - loss: 0.5581 - accuracy: 0.7931 - val_loss: 0.4578 - val_accuracy: 0.8281\n",
            "Epoch 63/100\n",
            "10/10 [==============================] - 10s 1s/step - loss: 0.5017 - accuracy: 0.7781 - val_loss: 0.4190 - val_accuracy: 0.8438\n",
            "Epoch 64/100\n",
            "10/10 [==============================] - 14s 2s/step - loss: 0.4251 - accuracy: 0.8344 - val_loss: 0.5237 - val_accuracy: 0.7969\n",
            "Epoch 65/100\n",
            "10/10 [==============================] - 10s 1s/step - loss: 0.4882 - accuracy: 0.8125 - val_loss: 0.4932 - val_accuracy: 0.7937\n",
            "Epoch 66/100\n",
            "10/10 [==============================] - 14s 2s/step - loss: 0.4912 - accuracy: 0.8156 - val_loss: 0.4578 - val_accuracy: 0.8531\n",
            "Epoch 67/100\n",
            "10/10 [==============================] - 10s 1s/step - loss: 0.4675 - accuracy: 0.8406 - val_loss: 0.4033 - val_accuracy: 0.8562\n",
            "Epoch 68/100\n",
            "10/10 [==============================] - 14s 2s/step - loss: 0.5260 - accuracy: 0.7906 - val_loss: 0.4246 - val_accuracy: 0.8500\n",
            "Epoch 69/100\n",
            "10/10 [==============================] - 9s 959ms/step - loss: 0.5407 - accuracy: 0.7781 - val_loss: 0.4659 - val_accuracy: 0.8375\n",
            "Epoch 70/100\n",
            "10/10 [==============================] - 10s 1s/step - loss: 0.4884 - accuracy: 0.8207 - val_loss: 0.4485 - val_accuracy: 0.8375\n",
            "Epoch 71/100\n",
            "10/10 [==============================] - 14s 2s/step - loss: 0.4832 - accuracy: 0.8138 - val_loss: 0.4025 - val_accuracy: 0.8625\n",
            "Epoch 72/100\n",
            "10/10 [==============================] - 10s 1s/step - loss: 0.4758 - accuracy: 0.8125 - val_loss: 0.4186 - val_accuracy: 0.8531\n",
            "Epoch 73/100\n",
            "10/10 [==============================] - 9s 920ms/step - loss: 0.4870 - accuracy: 0.7966 - val_loss: 0.4442 - val_accuracy: 0.8313\n",
            "Epoch 74/100\n",
            "10/10 [==============================] - 10s 1s/step - loss: 0.4828 - accuracy: 0.7897 - val_loss: 0.4276 - val_accuracy: 0.8438\n",
            "Epoch 75/100\n",
            "10/10 [==============================] - 15s 2s/step - loss: 0.4648 - accuracy: 0.8250 - val_loss: 0.3872 - val_accuracy: 0.8875\n",
            "Epoch 76/100\n",
            "10/10 [==============================] - 10s 1s/step - loss: 0.4685 - accuracy: 0.8344 - val_loss: 0.4173 - val_accuracy: 0.8438\n",
            "Epoch 77/100\n",
            "10/10 [==============================] - 9s 954ms/step - loss: 0.3919 - accuracy: 0.8438 - val_loss: 0.4380 - val_accuracy: 0.8125\n",
            "Epoch 78/100\n",
            "10/10 [==============================] - 9s 955ms/step - loss: 0.4185 - accuracy: 0.8313 - val_loss: 0.4088 - val_accuracy: 0.8406\n",
            "Epoch 79/100\n",
            "10/10 [==============================] - 10s 1s/step - loss: 0.4675 - accuracy: 0.8172 - val_loss: 0.3801 - val_accuracy: 0.8469\n",
            "Epoch 80/100\n",
            "10/10 [==============================] - 10s 1s/step - loss: 0.4128 - accuracy: 0.8448 - val_loss: 0.4452 - val_accuracy: 0.8344\n",
            "Epoch 81/100\n",
            "10/10 [==============================] - 10s 1s/step - loss: 0.4171 - accuracy: 0.8375 - val_loss: 0.3724 - val_accuracy: 0.8687\n",
            "Epoch 82/100\n",
            "10/10 [==============================] - 14s 1s/step - loss: 0.4401 - accuracy: 0.8310 - val_loss: 0.3848 - val_accuracy: 0.8687\n",
            "Epoch 83/100\n",
            "10/10 [==============================] - 10s 973ms/step - loss: 0.3954 - accuracy: 0.8562 - val_loss: 0.3636 - val_accuracy: 0.8531\n",
            "Epoch 84/100\n",
            "10/10 [==============================] - 10s 1s/step - loss: 0.3660 - accuracy: 0.8750 - val_loss: 0.3223 - val_accuracy: 0.8781\n",
            "Epoch 85/100\n",
            "10/10 [==============================] - 10s 1s/step - loss: 0.3963 - accuracy: 0.8562 - val_loss: 0.3725 - val_accuracy: 0.8438\n",
            "Epoch 86/100\n",
            "10/10 [==============================] - 10s 1s/step - loss: 0.4212 - accuracy: 0.8345 - val_loss: 0.3932 - val_accuracy: 0.8406\n",
            "Epoch 87/100\n",
            "10/10 [==============================] - 8s 893ms/step - loss: 0.4206 - accuracy: 0.8586 - val_loss: 0.3630 - val_accuracy: 0.8750\n",
            "Epoch 88/100\n",
            "10/10 [==============================] - 15s 2s/step - loss: 0.4055 - accuracy: 0.8625 - val_loss: 0.3704 - val_accuracy: 0.8625\n",
            "Epoch 89/100\n",
            "10/10 [==============================] - 14s 2s/step - loss: 0.4163 - accuracy: 0.8500 - val_loss: 0.3326 - val_accuracy: 0.8781\n",
            "Epoch 90/100\n",
            "10/10 [==============================] - 10s 1s/step - loss: 0.4569 - accuracy: 0.8250 - val_loss: 0.3204 - val_accuracy: 0.8969\n",
            "Epoch 91/100\n",
            "10/10 [==============================] - 14s 2s/step - loss: 0.3381 - accuracy: 0.8906 - val_loss: 0.3680 - val_accuracy: 0.8531\n",
            "Epoch 92/100\n",
            "10/10 [==============================] - 10s 1s/step - loss: 0.3964 - accuracy: 0.8759 - val_loss: 0.3185 - val_accuracy: 0.8906\n",
            "Epoch 93/100\n",
            "10/10 [==============================] - 14s 2s/step - loss: 0.3405 - accuracy: 0.8719 - val_loss: 0.3753 - val_accuracy: 0.8531\n",
            "Epoch 94/100\n",
            "10/10 [==============================] - 10s 1s/step - loss: 0.3637 - accuracy: 0.8375 - val_loss: 0.4125 - val_accuracy: 0.8562\n",
            "Epoch 95/100\n",
            "10/10 [==============================] - 14s 2s/step - loss: 0.3845 - accuracy: 0.8687 - val_loss: 0.3596 - val_accuracy: 0.8719\n",
            "Epoch 96/100\n",
            "10/10 [==============================] - 14s 2s/step - loss: 0.3551 - accuracy: 0.8875 - val_loss: 0.3394 - val_accuracy: 0.9000\n",
            "Epoch 97/100\n",
            "10/10 [==============================] - 9s 954ms/step - loss: 0.3334 - accuracy: 0.8875 - val_loss: 0.3852 - val_accuracy: 0.8531\n",
            "Epoch 98/100\n",
            "10/10 [==============================] - 10s 1s/step - loss: 0.3686 - accuracy: 0.8625 - val_loss: 0.3484 - val_accuracy: 0.8656\n",
            "Epoch 99/100\n",
            "10/10 [==============================] - 10s 1s/step - loss: 0.3698 - accuracy: 0.8656 - val_loss: 0.3214 - val_accuracy: 0.8844\n",
            "Epoch 100/100\n",
            "10/10 [==============================] - 14s 2s/step - loss: 0.3374 - accuracy: 0.8625 - val_loss: 0.4282 - val_accuracy: 0.8531\n"
          ]
        }
      ]
    },
    {
      "cell_type": "markdown",
      "source": [
        "Evaluation"
      ],
      "metadata": {
        "id": "6o-nS7nSFDSj"
      }
    },
    {
      "cell_type": "code",
      "source": [
        "model.evaluate(validation_generator)"
      ],
      "metadata": {
        "colab": {
          "base_uri": "https://localhost:8080/"
        },
        "id": "4zLR0GnUJQIN",
        "outputId": "325cfae7-6f93-4bfa-f39e-4322d53bba37"
      },
      "execution_count": 9,
      "outputs": [
        {
          "output_type": "stream",
          "name": "stdout",
          "text": [
            "28/28 [==============================] - 12s 412ms/step - loss: 0.3487 - accuracy: 0.8753\n"
          ]
        },
        {
          "output_type": "execute_result",
          "data": {
            "text/plain": [
              "[0.34874534606933594, 0.8752860426902771]"
            ]
          },
          "metadata": {},
          "execution_count": 9
        }
      ]
    },
    {
      "cell_type": "code",
      "source": [
        "import matplotlib.pyplot as plt\n",
        "import seaborn as sns\n",
        "\n",
        "accuracy = history.history['accuracy']\n",
        "val_accuracy = history.history['val_accuracy']\n",
        "loss = history.history['loss']\n",
        "val_loss = history.history['val_loss']\n",
        "epochs = range(1, len(accuracy) + 1)\n",
        "\n",
        "sns.set(style='whitegrid')\n",
        "\n",
        "plt.figure(figsize=(12, 4))\n",
        "plt.subplot(1, 2, 1)\n",
        "plt.plot(epochs, accuracy, 'bo', label='Training Accuracy')\n",
        "plt.plot(epochs, val_accuracy, 'b', label='Validation Accuracy')\n",
        "plt.title('Training and Validation Accuracy')\n",
        "plt.xlabel('Epochs')\n",
        "plt.ylabel('Accuracy')\n",
        "plt.legend()\n",
        "\n",
        "plt.subplot(1, 2, 2)\n",
        "plt.plot(epochs, loss, 'bo', label='Training Loss')\n",
        "plt.plot(epochs, val_loss, 'b', label='Validation Loss')\n",
        "plt.title('Training and Validation Loss')\n",
        "plt.xlabel('Epochs')\n",
        "plt.ylabel('Loss')\n",
        "plt.legend()\n",
        "\n",
        "plt.tight_layout()\n",
        "plt.show()"
      ],
      "metadata": {
        "colab": {
          "base_uri": "https://localhost:8080/",
          "height": 401
        },
        "id": "LFO8RRigLGHC",
        "outputId": "538b2571-14c4-450b-8849-4b9ea81d89da"
      },
      "execution_count": 10,
      "outputs": [
        {
          "output_type": "display_data",
          "data": {
            "text/plain": [
              "<Figure size 1200x400 with 2 Axes>"
            ],
            "image/png": "[encoded data removed]"
          },
          "metadata": {}
        }
      ]
    },
    {
      "cell_type": "markdown",
      "source": [
        "Predicition"
      ],
      "metadata": {
        "id": "Gblf3SHMFE3d"
      }
    },
    {
      "cell_type": "code",
      "source": [
        "def predict_uploaded_image(model, img_path):\n",
        "    img = image.load_img(img_path, target_size=(224, 224))\n",
        "    img = image.img_to_array(img)\n",
        "    img = np.expand_dims(img, axis=0)\n",
        "    img /= 255.0\n",
        "\n",
        "    result = model.predict(img)\n",
        "    class_index = np.argmax(result)\n",
        "\n",
        "    return class_index"
      ],
      "metadata": {
        "id": "0N1H909wPfLa"
      },
      "execution_count": 11,
      "outputs": []
    },
    {
      "cell_type": "code",
      "source": [
        "uploaded = files.upload()\n",
        "\n",
        "for filename in uploaded.keys():\n",
        "    img_path = filename\n",
        "    class_index = predict_uploaded_image(model, img_path)\n",
        "\n",
        "    if class_index == 0:\n",
        "        print(\"Gambar adalah kertas\")\n",
        "    elif class_index == 1:\n",
        "        print(\"Gambar adalah batu\")\n",
        "    else:\n",
        "        print(\"Gambar adalah gunting\")\n",
        "\n",
        "    display(Image(img_path))"
      ],
      "metadata": {
        "colab": {
          "base_uri": "https://localhost:8080/",
          "height": 299
        },
        "id": "i2EKelgMPqJo",
        "outputId": "e1a02aba-b42f-4188-d3ea-21d7e8bf2aff"
      },
      "execution_count": 16,
      "outputs": [
        {
          "output_type": "display_data",
          "data": {
            "text/plain": [
              "<IPython.core.display.HTML object>"
            ],
            "text/html": [
              "\n",
              "     <input type=\"file\" id=\"files-298ec3af-be5c-4a1e-b846-ddab2d6ee841\" name=\"files[]\" multiple disabled\n",
              "        style=\"border:none\" />\n",
              "     <output id=\"result-298ec3af-be5c-4a1e-b846-ddab2d6ee841\">\n",
              "      Upload widget is only available when the cell has been executed in the\n",
              "      current browser session. Please rerun this cell to enable.\n",
              "      </output>\n",
              "      <script>// Copyright 2017 Google LLC\n",
              "//\n",
              "// Licensed under the Apache License, Version 2.0 (the \"License\");\n",
              "// you may not use this file except in compliance with the License.\n",
              "// You may obtain a copy of the License at\n",
              "//\n",
              "//      http://www.apache.org/licenses/LICENSE-2.0\n",
              "//\n",
              "// Unless required by applicable law or agreed to in writing, software\n",
              "// distributed under the License is distributed on an \"AS IS\" BASIS,\n",
              "// WITHOUT WARRANTIES OR CONDITIONS OF ANY KIND, either express or implied.\n",
              "// See the License for the specific language governing permissions and\n",
              "// limitations under the License.\n",
              "\n",
              "/**\n",
              " * @fileoverview Helpers for google.colab Python module.\n",
              " */\n",
              "(function(scope) {\n",
              "function span(text, styleAttributes = {}) {\n",
              "  const element = document.createElement('span');\n",
              "  element.textContent = text;\n",
              "  for (const key of Object.keys(styleAttributes)) {\n",
              "    element.style[key] = styleAttributes[key];\n",
              "  }\n",
              "  return element;\n",
              "}\n",
              "\n",
              "// Max number of bytes which will be uploaded at a time.\n",
              "const MAX_PAYLOAD_SIZE = 100 * 1024;\n",
              "\n",
              "function _uploadFiles(inputId, outputId) {\n",
              "  const steps = uploadFilesStep(inputId, outputId);\n",
              "  const outputElement = document.getElementById(outputId);\n",
              "  // Cache steps on the outputElement to make it available for the next call\n",
              "  // to uploadFilesContinue from Python.\n",
              "  outputElement.steps = steps;\n",
              "\n",
              "  return _uploadFilesContinue(outputId);\n",
              "}\n",
              "\n",
              "// This is roughly an async generator (not supported in the browser yet),\n",
              "// where there are multiple asynchronous steps and the Python side is going\n",
              "// to poll for completion of each step.\n",
              "// This uses a Promise to block the python side on completion of each step,\n",
              "// then passes the result of the previous step as the input to the next step.\n",
              "function _uploadFilesContinue(outputId) {\n",
              "  const outputElement = document.getElementById(outputId);\n",
              "  const steps = outputElement.steps;\n",
              "\n",
              "  const next = steps.next(outputElement.lastPromiseValue);\n",
              "  return Promise.resolve(next.value.promise).then((value) => {\n",
              "    // Cache the last promise value to make it available to the next\n",
              "    // step of the generator.\n",
              "    outputElement.lastPromiseValue = value;\n",
              "    return next.value.response;\n",
              "  });\n",
              "}\n",
              "\n",
              "/**\n",
              " * Generator function which is called between each async step of the upload\n",
              " * process.\n",
              " * @param {string} inputId Element ID of the input file picker element.\n",
              " * @param {string} outputId Element ID of the output display.\n",
              " * @return {!Iterable<!Object>} Iterable of next steps.\n",
              " */\n",
              "function* uploadFilesStep(inputId, outputId) {\n",
              "  const inputElement = document.getElementById(inputId);\n",
              "  inputElement.disabled = false;\n",
              "\n",
              "  const outputElement = document.getElementById(outputId);\n",
              "  outputElement.innerHTML = '';\n",
              "\n",
              "  const pickedPromise = new Promise((resolve) => {\n",
              "    inputElement.addEventListener('change', (e) => {\n",
              "      resolve(e.target.files);\n",
              "    });\n",
              "  });\n",
              "\n",
              "  const cancel = document.createElement('button');\n",
              "  inputElement.parentElement.appendChild(cancel);\n",
              "  cancel.textContent = 'Cancel upload';\n",
              "  const cancelPromise = new Promise((resolve) => {\n",
              "    cancel.onclick = () => {\n",
              "      resolve(null);\n",
              "    };\n",
              "  });\n",
              "\n",
              "  // Wait for the user to pick the files.\n",
              "  const files = yield {\n",
              "    promise: Promise.race([pickedPromise, cancelPromise]),\n",
              "    response: {\n",
              "      action: 'starting',\n",
              "    }\n",
              "  };\n",
              "\n",
              "  cancel.remove();\n",
              "\n",
              "  // Disable the input element since further picks are not allowed.\n",
              "  inputElement.disabled = true;\n",
              "\n",
              "  if (!files) {\n",
              "    return {\n",
              "      response: {\n",
              "        action: 'complete',\n",
              "      }\n",
              "    };\n",
              "  }\n",
              "\n",
              "  for (const file of files) {\n",
              "    const li = document.createElement('li');\n",
              "    li.append(span(file.name, {fontWeight: 'bold'}));\n",
              "    li.append(span(\n",
              "        `(${file.type || 'n/a'}) - ${file.size} bytes, ` +\n",
              "        `last modified: ${\n",
              "            file.lastModifiedDate ? file.lastModifiedDate.toLocaleDateString() :\n",
              "                                    'n/a'} - `));\n",
              "    const percent = span('0% done');\n",
              "    li.appendChild(percent);\n",
              "\n",
              "    outputElement.appendChild(li);\n",
              "\n",
              "    const fileDataPromise = new Promise((resolve) => {\n",
              "      const reader = new FileReader();\n",
              "      reader.onload = (e) => {\n",
              "        resolve(e.target.result);\n",
              "      };\n",
              "      reader.readAsArrayBuffer(file);\n",
              "    });\n",
              "    // Wait for the data to be ready.\n",
              "    let fileData = yield {\n",
              "      promise: fileDataPromise,\n",
              "      response: {\n",
              "        action: 'continue',\n",
              "      }\n",
              "    };\n",
              "\n",
              "    // Use a chunked sending to avoid message size limits. See b/62115660.\n",
              "    let position = 0;\n",
              "    do {\n",
              "      const length = Math.min(fileData.byteLength - position, MAX_PAYLOAD_SIZE);\n",
              "      const chunk = new Uint8Array(fileData, position, length);\n",
              "      position += length;\n",
              "\n",
              "      const base64 = btoa(String.fromCharCode.apply(null, chunk));\n",
              "      yield {\n",
              "        response: {\n",
              "          action: 'append',\n",
              "          file: file.name,\n",
              "          data: base64,\n",
              "        },\n",
              "      };\n",
              "\n",
              "      let percentDone = fileData.byteLength === 0 ?\n",
              "          100 :\n",
              "          Math.round((position / fileData.byteLength) * 100);\n",
              "      percent.textContent = `${percentDone}% done`;\n",
              "\n",
              "    } while (position < fileData.byteLength);\n",
              "  }\n",
              "\n",
              "  // All done.\n",
              "  yield {\n",
              "    response: {\n",
              "      action: 'complete',\n",
              "    }\n",
              "  };\n",
              "}\n",
              "\n",
              "scope.google = scope.google || {};\n",
              "scope.google.colab = scope.google.colab || {};\n",
              "scope.google.colab._files = {\n",
              "  _uploadFiles,\n",
              "  _uploadFilesContinue,\n",
              "};\n",
              "})(self);\n",
              "</script> "
            ]
          },
          "metadata": {}
        },
        {
          "output_type": "stream",
          "name": "stdout",
          "text": [
            "Saving test gambar 3.jpeg to test gambar 3 (1).jpeg\n",
            "1/1 [==============================] - 0s 17ms/step\n",
            "Gambar adalah kertas\n"
          ]
        },
        {
          "output_type": "display_data",
          "data": {
            "image/jpeg": "[encoded data removed]",
            "text/plain": [
              "<IPython.core.display.Image object>"
            ]
          },
          "metadata": {}
        }
      ]
    }
  ]
}